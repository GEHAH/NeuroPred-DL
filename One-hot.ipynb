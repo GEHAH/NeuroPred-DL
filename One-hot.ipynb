{
 "cells": [
  {
   "cell_type": "code",
   "execution_count": 12,
   "id": "626112eb",
   "metadata": {
    "ExecuteTime": {
     "end_time": "2022-03-24T04:00:47.279581Z",
     "start_time": "2022-03-24T04:00:47.272589Z"
    }
   },
   "outputs": [],
   "source": [
    "from pathlib import Path\n",
    "import pandas as pd\n",
    "from Bio import SeqIO\n",
    "import warnings\n",
    "import numpy as np\n",
    "warnings.filterwarnings('ignore')\n",
    "Path('./one_hot_data/').mkdir(exist_ok=True,parents=True)"
   ]
  },
  {
   "cell_type": "code",
   "execution_count": 7,
   "id": "f396e017",
   "metadata": {
    "ExecuteTime": {
     "end_time": "2022-03-24T03:58:06.112633Z",
     "start_time": "2022-03-24T03:58:06.094640Z"
    }
   },
   "outputs": [],
   "source": [
    "#定义函数\n",
    "def read_fasta(fname):    #读取数据函数\n",
    "    with open(fname, \"rU\") as f:\n",
    "        seq_dict = [(record.id, record.seq._data.decode()) for record in SeqIO.parse(f, \"fasta\")]\n",
    "    seq_df = pd.DataFrame(data=seq_dict, columns=[\"Id\", \"Sequence\"])\n",
    "    return seq_df\n",
    "\n",
    "def process_(sequence,d):\n",
    "    X = []\n",
    "    for seq in sequence:\n",
    "        x=[]\n",
    "        for residue in seq:\n",
    "            x.append(d[residue])\n",
    "        x = np.array(x)\n",
    "        X.append(x)\n",
    "    X = np.array(X)\n",
    "    return X"
   ]
  },
  {
   "cell_type": "code",
   "execution_count": 4,
   "id": "834750c9",
   "metadata": {
    "ExecuteTime": {
     "end_time": "2022-03-24T03:55:27.726991Z",
     "start_time": "2022-03-24T03:55:27.703992Z"
    }
   },
   "outputs": [],
   "source": [
    "BPF = {\n",
    "    'A':[1,0,0,0,0,0,0,0,0,0,0,0,0,0,0,0,0,0,0,0],\n",
    "    'C':[0,1,0,0,0,0,0,0,0,0,0,0,0,0,0,0,0,0,0,0],\n",
    "    'D':[0,0,1,0,0,0,0,0,0,0,0,0,0,0,0,0,0,0,0,0],\n",
    "    'E':[0,0,0,1,0,0,0,0,0,0,0,0,0,0,0,0,0,0,0,0],\n",
    "    'F':[0,0,0,0,1,0,0,0,0,0,0,0,0,0,0,0,0,0,0,0],\n",
    "    'G':[0,0,0,0,0,1,0,0,0,0,0,0,0,0,0,0,0,0,0,0],\n",
    "    'H':[0,0,0,0,0,0,1,0,0,0,0,0,0,0,0,0,0,0,0,0],\n",
    "    'I':[0,0,0,0,0,0,0,1,0,0,0,0,0,0,0,0,0,0,0,0],\n",
    "    'K':[0,0,0,0,0,0,0,0,1,0,0,0,0,0,0,0,0,0,0,0],\n",
    "    'L':[0,0,0,0,0,0,0,0,0,1,0,0,0,0,0,0,0,0,0,0],\n",
    "    'M':[0,0,0,0,0,0,0,0,0,0,1,0,0,0,0,0,0,0,0,0],\n",
    "    'N':[0,0,0,0,0,0,0,0,0,0,0,1,0,0,0,0,0,0,0,0],\n",
    "    'P':[0,0,0,0,0,0,0,0,0,0,0,0,1,0,0,0,0,0,0,0],\n",
    "    'Q':[0,0,0,0,0,0,0,0,0,0,0,0,0,1,0,0,0,0,0,0],\n",
    "    'R':[0,0,0,0,0,0,0,0,0,0,0,0,0,0,1,0,0,0,0,0],\n",
    "    'S':[0,0,0,0,0,0,0,0,0,0,0,0,0,0,0,1,0,0,0,0],\n",
    "    'T':[0,0,0,0,0,0,0,0,0,0,0,0,0,0,0,0,1,0,0,0],\n",
    "    'V':[0,0,0,0,0,0,0,0,0,0,0,0,0,0,0,0,0,1,0,0],\n",
    "    'W':[0,0,0,0,0,0,0,0,0,0,0,0,0,0,0,0,0,0,1,0],\n",
    "    'Y':[0,0,0,0,0,0,0,0,0,0,0,0,0,0,0,0,0,0,0,1],\n",
    "    'X':[0,0,0,0,0,0,0,0,0,0,0,0,0,0,0,0,0,0,0,0], #padding\n",
    "}"
   ]
  },
  {
   "cell_type": "code",
   "execution_count": 5,
   "id": "bc0c25c4",
   "metadata": {
    "ExecuteTime": {
     "end_time": "2022-03-24T03:56:45.879489Z",
     "start_time": "2022-03-24T03:56:45.800737Z"
    }
   },
   "outputs": [],
   "source": [
    "#读取数据处理数据\n",
    "#分别读取训练集和测试集\n",
    "train_sets = {\n",
    "    lab: read_fasta('data/Process_data/{:s}_train.txt'.format(lab))\n",
    "    for lab in ['Pos','Neg']\n",
    "}\n",
    "test_sets = {\n",
    "    lab: read_fasta('data/Process_data/{:s}_test.txt'.format(lab))\n",
    "    for lab in ['Pos','Neg']\n",
    "}\n",
    "#定义标签\n",
    "train_sets['Pos'].loc[:,'Label'] = 1\n",
    "train_sets['Neg'].loc[:,'Label'] = 0\n",
    "test_sets['Pos'].loc[:,'Label'] = 1\n",
    "test_sets['Neg'].loc[:,'Label'] = 0\n",
    "\n",
    "#确定编码以后的训练集和测试集\n",
    "all_train = pd.concat([train_sets['Pos'],train_sets['Neg']],axis=0,ignore_index='ignore')\n",
    "all_test = pd.concat([test_sets['Pos'],test_sets['Neg']],axis=0,ignore_index='ignore')\n",
    "X_train = all_train.iloc[:,0:2]\n",
    "X_test = all_test.iloc[:,0:2]\n",
    "y_train = all_train['Label']\n",
    "y_test = all_test['Label']\n",
    "X_train.to_csv('data/Process_data/train/X_train.csv',index = False)\n",
    "X_test.to_csv('data/Process_data/test/X_test.csv',index = False)\n",
    "y_train.to_csv('data/Process_data/train/y_train.csv',index = False)\n",
    "y_test.to_csv('data/Process_data/test/y_test.csv',index = False)"
   ]
  },
  {
   "cell_type": "code",
   "execution_count": 14,
   "id": "7e65726a",
   "metadata": {
    "ExecuteTime": {
     "end_time": "2022-03-24T04:06:26.199694Z",
     "start_time": "2022-03-24T04:06:25.611470Z"
    }
   },
   "outputs": [],
   "source": [
    "X_train_BPF = process_(X_train['Sequence'],BPF)\n",
    "X_test_BPF = process_(X_test['Sequence'],BPF)\n",
    "np.savez('one_hot_data/BPF.npz',X_train = X_train_BPF,X_test = X_test_BPF)"
   ]
  },
  {
   "cell_type": "code",
   "execution_count": null,
   "id": "be92dc11",
   "metadata": {},
   "outputs": [],
   "source": []
  }
 ],
 "metadata": {
  "kernelspec": {
   "display_name": "Python 3 (ipykernel)",
   "language": "python",
   "name": "python3"
  },
  "language_info": {
   "codemirror_mode": {
    "name": "ipython",
    "version": 3
   },
   "file_extension": ".py",
   "mimetype": "text/x-python",
   "name": "python",
   "nbconvert_exporter": "python",
   "pygments_lexer": "ipython3",
   "version": "3.9.7"
  },
  "toc": {
   "base_numbering": 1,
   "nav_menu": {},
   "number_sections": true,
   "sideBar": true,
   "skip_h1_title": false,
   "title_cell": "Table of Contents",
   "title_sidebar": "Contents",
   "toc_cell": false,
   "toc_position": {},
   "toc_section_display": true,
   "toc_window_display": false
  },
  "varInspector": {
   "cols": {
    "lenName": 16,
    "lenType": 16,
    "lenVar": 40
   },
   "kernels_config": {
    "python": {
     "delete_cmd_postfix": "",
     "delete_cmd_prefix": "del ",
     "library": "var_list.py",
     "varRefreshCmd": "print(var_dic_list())"
    },
    "r": {
     "delete_cmd_postfix": ") ",
     "delete_cmd_prefix": "rm(",
     "library": "var_list.r",
     "varRefreshCmd": "cat(var_dic_list()) "
    }
   },
   "types_to_exclude": [
    "module",
    "function",
    "builtin_function_or_method",
    "instance",
    "_Feature"
   ],
   "window_display": false
  }
 },
 "nbformat": 4,
 "nbformat_minor": 5
}
