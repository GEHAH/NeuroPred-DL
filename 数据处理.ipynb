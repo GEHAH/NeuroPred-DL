{
 "cells": [
  {
   "cell_type": "code",
   "execution_count": 3,
   "id": "3a4a9a19",
   "metadata": {
    "ExecuteTime": {
     "end_time": "2022-03-28T02:31:52.267364Z",
     "start_time": "2022-03-28T02:31:51.512087Z"
    }
   },
   "outputs": [],
   "source": [
    "from Bio import SeqIO\n",
    "import numpy as np\n",
    "from pathlib import Path\n",
    "import pandas as pd\n",
    "import warnings\n",
    "import os\n",
    "from tools import read_fasta,supple_X\n",
    "import gensim\n",
    "import gzip\n",
    "import os\n",
    "import glob\n",
    "import csv\n",
    "import multiprocessing\n",
    "Path('./data/Process_data/train/').mkdir(exist_ok=True, parents=True)\n",
    "Path('./data/Process_data/test/').mkdir(exist_ok=True, parents=True)\n",
    "Path('./word2vec_model/').mkdir(exist_ok=True, parents=True)"
   ]
  },
  {
   "cell_type": "code",
   "execution_count": 2,
   "id": "a150c584",
   "metadata": {
    "ExecuteTime": {
     "end_time": "2022-03-21T07:49:57.666975Z",
     "start_time": "2022-03-21T07:49:57.635967Z"
    }
   },
   "outputs": [],
   "source": [
    "lab = ['Pos_train','Pos_test','Neg_train','Neg_test']\n",
    "for f in lab:\n",
    "    inpath_dir = 'data/'+'{}.txt'.format(f)\n",
    "    outpath_dir = 'data/'+'Process_data/'+'{}.txt'.format(f)\n",
    "    supple_X(inpath_dir,outpath_dir,100)"
   ]
  },
  {
   "cell_type": "code",
   "execution_count": 1,
   "id": "6e8b485f",
   "metadata": {
    "ExecuteTime": {
     "end_time": "2022-03-28T02:31:43.606015Z",
     "start_time": "2022-03-28T02:31:43.594012Z"
    }
   },
   "outputs": [],
   "source": [
    "#设置参数\n",
    "word2vec_modell = 'NPs'\n",
    "Embsize = 100\n",
    "stride = 1\n",
    "Embepochs = 50\n",
    "kmer_len3 = 3\n",
    "kmer_len4 = 4\n",
    "kmer_len5 = 5\n",
    "kmer_len6 = 6\n",
    "#定义函数\n",
    "def Gen_Words(sequences,kmer_len,s):\n",
    "\t\tout=[]\n",
    "\n",
    "\t\tfor i in sequences:\n",
    "\n",
    "\t\t\t\tkmer_list=[]\n",
    "\t\t\t\tfor j in range(0,(len(i)-kmer_len)+1,s):\n",
    "\n",
    "\t\t\t\t\t\t\tkmer_list.append(i[j:j+kmer_len])\n",
    "\n",
    "\t\t\t\tout.append(kmer_list)\n",
    "\n",
    "\t\treturn out\n",
    "def read_fasta_file(Filename):\n",
    "    '''\n",
    "    used for load fasta data and transformd into numpy.array format\n",
    "    '''\n",
    "    fh = open(Filename, 'r')\n",
    "    seq = []\n",
    "    for line in fh:\n",
    "        if line.startswith('>'):\n",
    "            continue\n",
    "        else:\n",
    "            seq.append(line.replace('\\n', '').replace('\\r', ''))\n",
    "    fh.close()\n",
    "    matrix_data = np.array([list(e) for e in seq])\n",
    "    #print(matrix_data)\n",
    "    return seq\n",
    "\n",
    "def train(sequences,kmer_len):\n",
    "\tprint('training word2vec modell')\n",
    "\tdocument= Gen_Words(sequences,kmer_len,stride)\n",
    "\t#print(document)\n",
    "\tmodell = gensim.models.Word2Vec (document, window=int(6), min_count=0, vector_size=Embsize,workers=multiprocessing.cpu_count())\n",
    "\tmodell.train(document,total_examples=len(document),epochs=Embepochs)\n",
    "\tmodell.save('word2vec_model'+'/'+word2vec_modell+str(kmer_len))\n",
    "\treturn document"
   ]
  },
  {
   "cell_type": "code",
   "execution_count": 3,
   "id": "3c4f9737",
   "metadata": {
    "ExecuteTime": {
     "end_time": "2022-03-22T11:36:46.243370Z",
     "start_time": "2022-03-22T11:36:25.110536Z"
    }
   },
   "outputs": [
    {
     "name": "stdout",
     "output_type": "stream",
     "text": [
      "training word2vec modell\n",
      "training word2vec modell\n",
      "training word2vec modell\n",
      "training word2vec modell\n"
     ]
    }
   ],
   "source": [
    "#训练word2vec并保存模型\n",
    "all_seq = read_fasta_file('data/Process_data/all_data.txt')\n",
    "document3 = train(all_seq,kmer_len3)\n",
    "document4 = train(all_seq,kmer_len4)\n",
    "document5 = train(all_seq,kmer_len5)\n",
    "document6 = train(all_seq,kmer_len6)"
   ]
  },
  {
   "cell_type": "code",
   "execution_count": 4,
   "id": "647c478d",
   "metadata": {
    "ExecuteTime": {
     "end_time": "2022-03-28T02:31:56.514331Z",
     "start_time": "2022-03-28T02:31:55.165175Z"
    }
   },
   "outputs": [],
   "source": [
    "model3 = gensim.models.Word2Vec.load('word2vec_model'+'/'+word2vec_modell+str(kmer_len3))\n",
    "model4 = gensim.models.Word2Vec.load('word2vec_model'+'/'+word2vec_modell+str(kmer_len4))\n",
    "model5 = gensim.models.Word2Vec.load('word2vec_model'+'/'+word2vec_modell+str(kmer_len5))\n",
    "model6 = gensim.models.Word2Vec.load('word2vec_model'+'/'+word2vec_modell+str(kmer_len6))"
   ]
  },
  {
   "cell_type": "code",
   "execution_count": 5,
   "id": "838dc7d2",
   "metadata": {
    "ExecuteTime": {
     "end_time": "2022-03-28T02:32:04.043449Z",
     "start_time": "2022-03-28T02:32:03.978115Z"
    }
   },
   "outputs": [],
   "source": [
    "#读取数据处理数据\n",
    "#分别读取训练集和测试集\n",
    "train_sets = {\n",
    "    lab: read_fasta('data/Process_data/{:s}_train.txt'.format(lab))\n",
    "    for lab in ['Pos','Neg']\n",
    "}\n",
    "test_sets = {\n",
    "    lab: read_fasta('data/Process_data/{:s}_test.txt'.format(lab))\n",
    "    for lab in ['Pos','Neg']\n",
    "}\n",
    "#定义标签\n",
    "train_sets['Pos'].loc[:,'Label'] = 1\n",
    "train_sets['Neg'].loc[:,'Label'] = 0\n",
    "test_sets['Pos'].loc[:,'Label'] = 1\n",
    "test_sets['Neg'].loc[:,'Label'] = 0\n",
    "\n",
    "#确定编码以后的训练集和测试集\n",
    "all_train = pd.concat([train_sets['Pos'],train_sets['Neg']],axis=0,ignore_index='ignore')\n",
    "all_test = pd.concat([test_sets['Pos'],test_sets['Neg']],axis=0,ignore_index='ignore')\n",
    "X_train = all_train.iloc[:,0:2]\n",
    "X_test = all_test.iloc[:,0:2]\n",
    "y_train = all_train['Label']\n",
    "y_test = all_test['Label']\n",
    "X_train.to_csv('data/Process_data/train/X_train.csv',index = False)\n",
    "X_test.to_csv('data/Process_data/test/X_test.csv',index = False)\n",
    "y_train.to_csv('data/Process_data/train/y_train.csv',index = False)\n",
    "y_test.to_csv('data/Process_data/test/y_test.csv',index = False)"
   ]
  },
  {
   "cell_type": "code",
   "execution_count": 8,
   "id": "8111a98f",
   "metadata": {
    "ExecuteTime": {
     "end_time": "2022-03-11T05:33:42.930719Z",
     "start_time": "2022-03-11T05:33:42.906714Z"
    }
   },
   "outputs": [
    {
     "data": {
      "text/html": [
       "<div>\n",
       "<style scoped>\n",
       "    .dataframe tbody tr th:only-of-type {\n",
       "        vertical-align: middle;\n",
       "    }\n",
       "\n",
       "    .dataframe tbody tr th {\n",
       "        vertical-align: top;\n",
       "    }\n",
       "\n",
       "    .dataframe thead th {\n",
       "        text-align: right;\n",
       "    }\n",
       "</style>\n",
       "<table border=\"1\" class=\"dataframe\">\n",
       "  <thead>\n",
       "    <tr style=\"text-align: right;\">\n",
       "      <th></th>\n",
       "      <th>Id</th>\n",
       "      <th>Sequence</th>\n",
       "    </tr>\n",
       "  </thead>\n",
       "  <tbody>\n",
       "    <tr>\n",
       "      <th>0</th>\n",
       "      <td>NP049871</td>\n",
       "      <td>SVQFKPRLXXXXXXXXXXXXXXXXXXXXXXXXXXXXXXXXXXXXXX...</td>\n",
       "    </tr>\n",
       "    <tr>\n",
       "      <th>1</th>\n",
       "      <td>NP056062</td>\n",
       "      <td>APLMGFQGVRXXXXXXXXXXXXXXXXXXXXXXXXXXXXXXXXXXXX...</td>\n",
       "    </tr>\n",
       "    <tr>\n",
       "      <th>2</th>\n",
       "      <td>NP032633</td>\n",
       "      <td>ALDGLDGAGFGFDXXXXXXXXXXXXXXXXXXXXXXXXXXXXXXXXX...</td>\n",
       "    </tr>\n",
       "    <tr>\n",
       "      <th>3</th>\n",
       "      <td>NP035474</td>\n",
       "      <td>QYYYGASPYAYSGGYYDSPYSYXXXXXXXXXXXXXXXXXXXXXXXX...</td>\n",
       "    </tr>\n",
       "    <tr>\n",
       "      <th>4</th>\n",
       "      <td>NP006995</td>\n",
       "      <td>RVINDDCPNLIGNRDLYKRVEWICEDCSNIFRNTGMATLCRKNCFF...</td>\n",
       "    </tr>\n",
       "    <tr>\n",
       "      <th>...</th>\n",
       "      <td>...</td>\n",
       "      <td>...</td>\n",
       "    </tr>\n",
       "    <tr>\n",
       "      <th>3875</th>\n",
       "      <td>non-NeuroP0359751936</td>\n",
       "      <td>AAKLLLNPKFRCKAAFCXXXXXXXXXXXXXXXXXXXXXXXXXXXXX...</td>\n",
       "    </tr>\n",
       "    <tr>\n",
       "      <th>3876</th>\n",
       "      <td>non-NeuroP0209341937</td>\n",
       "      <td>MDETIVTDKGVAEFSFFKFXXXXXXXXXXXXXXXXXXXXXXXXXXX...</td>\n",
       "    </tr>\n",
       "    <tr>\n",
       "      <th>3877</th>\n",
       "      <td>non-NeuroP0066251938</td>\n",
       "      <td>INWLKLGKMVIDALXXXXXXXXXXXXXXXXXXXXXXXXXXXXXXXX...</td>\n",
       "    </tr>\n",
       "    <tr>\n",
       "      <th>3878</th>\n",
       "      <td>non-NeuroP0074531939</td>\n",
       "      <td>MFEQTLTSDALVTTTHNHAAEPTQRPLRDSVQQALRNYLAQLNGQE...</td>\n",
       "    </tr>\n",
       "    <tr>\n",
       "      <th>3879</th>\n",
       "      <td>non-NeuroP0173711940</td>\n",
       "      <td>MTDLNLPSIFVPLVGLVFPAIAMASLSLHVQKNKIVXXXXXXXXXX...</td>\n",
       "    </tr>\n",
       "  </tbody>\n",
       "</table>\n",
       "<p>3880 rows × 2 columns</p>\n",
       "</div>"
      ],
      "text/plain": [
       "                        Id                                           Sequence\n",
       "0                 NP049871  SVQFKPRLXXXXXXXXXXXXXXXXXXXXXXXXXXXXXXXXXXXXXX...\n",
       "1                 NP056062  APLMGFQGVRXXXXXXXXXXXXXXXXXXXXXXXXXXXXXXXXXXXX...\n",
       "2                 NP032633  ALDGLDGAGFGFDXXXXXXXXXXXXXXXXXXXXXXXXXXXXXXXXX...\n",
       "3                 NP035474  QYYYGASPYAYSGGYYDSPYSYXXXXXXXXXXXXXXXXXXXXXXXX...\n",
       "4                 NP006995  RVINDDCPNLIGNRDLYKRVEWICEDCSNIFRNTGMATLCRKNCFF...\n",
       "...                    ...                                                ...\n",
       "3875  non-NeuroP0359751936  AAKLLLNPKFRCKAAFCXXXXXXXXXXXXXXXXXXXXXXXXXXXXX...\n",
       "3876  non-NeuroP0209341937  MDETIVTDKGVAEFSFFKFXXXXXXXXXXXXXXXXXXXXXXXXXXX...\n",
       "3877  non-NeuroP0066251938  INWLKLGKMVIDALXXXXXXXXXXXXXXXXXXXXXXXXXXXXXXXX...\n",
       "3878  non-NeuroP0074531939  MFEQTLTSDALVTTTHNHAAEPTQRPLRDSVQQALRNYLAQLNGQE...\n",
       "3879  non-NeuroP0173711940  MTDLNLPSIFVPLVGLVFPAIAMASLSLHVQKNKIVXXXXXXXXXX...\n",
       "\n",
       "[3880 rows x 2 columns]"
      ]
     },
     "execution_count": 8,
     "metadata": {},
     "output_type": "execute_result"
    }
   ],
   "source": [
    "x_train = pd.read_csv('data/Process_data/train/X_train.csv')\n",
    "x_train"
   ]
  },
  {
   "cell_type": "code",
   "execution_count": 6,
   "id": "58116425",
   "metadata": {
    "ExecuteTime": {
     "end_time": "2022-03-28T02:32:21.630846Z",
     "start_time": "2022-03-28T02:32:21.130367Z"
    }
   },
   "outputs": [
    {
     "name": "stdout",
     "output_type": "stream",
     "text": [
      "(3880, 97, 150)\n"
     ]
    }
   ],
   "source": [
    "#读取训练集测试集进行训练词向量\n",
    "x_train1 = pd.read_csv('data/Process_data/train/X_train.csv')\n",
    "x_train2 = x_train1['Sequence'].to_numpy()\n",
    "x_train3 = Gen_Words(x_train2,kmer_len4,stride)\n",
    "#将训练集通过word2vec--model3进行处理\n",
    "X_train = []\n",
    "for i in range(0,len(x_train3)):\n",
    "    s = []\n",
    "    for word in x_train3[i]:\n",
    "        s.append(model4.wv[word])   \n",
    "    X_train.append(s)\n",
    "print(np.array(X_train).shape)"
   ]
  },
  {
   "cell_type": "code",
   "execution_count": 6,
   "id": "21b5d596",
   "metadata": {
    "ExecuteTime": {
     "end_time": "2022-03-22T11:37:51.271528Z",
     "start_time": "2022-03-22T11:37:51.123494Z"
    }
   },
   "outputs": [
    {
     "name": "stdout",
     "output_type": "stream",
     "text": [
      "(970, 97, 100)\n"
     ]
    }
   ],
   "source": [
    "#独立数据和Banch_data\n",
    "x_test1 = pd.read_csv('data/Process_data/test/X_test.csv')\n",
    "x_test2 = x_test1['Sequence'].to_numpy()\n",
    "x_test3 = Gen_Words(x_test2,kmer_len4,stride)\n",
    "X_test = []\n",
    "for i in range(0,len(x_test3)):\n",
    "    s = []\n",
    "    for word in x_test3[i]:\n",
    "        s.append(model4.wv[word])   \n",
    "    X_test.append(s)\n",
    "print(np.array(X_test).shape)\n"
   ]
  },
  {
   "cell_type": "code",
   "execution_count": 7,
   "id": "59deeb9f",
   "metadata": {
    "ExecuteTime": {
     "end_time": "2022-03-22T11:37:53.118782Z",
     "start_time": "2022-03-22T11:37:52.771705Z"
    }
   },
   "outputs": [],
   "source": [
    "np.savez('data/Process_data/X_all4_100.npz', x_train=np.array(X_train),x_test = np.array(X_test))"
   ]
  },
  {
   "cell_type": "code",
   "execution_count": null,
   "id": "553aa06b",
   "metadata": {},
   "outputs": [],
   "source": []
  },
  {
   "cell_type": "code",
   "execution_count": null,
   "id": "4eea11c2",
   "metadata": {},
   "outputs": [],
   "source": []
  },
  {
   "cell_type": "code",
   "execution_count": 45,
   "id": "f962698f",
   "metadata": {
    "ExecuteTime": {
     "end_time": "2022-03-26T12:41:40.497754Z",
     "start_time": "2022-03-26T12:41:40.408229Z"
    }
   },
   "outputs": [
    {
     "data": {
      "text/html": [
       "<div>\n",
       "<style scoped>\n",
       "    .dataframe tbody tr th:only-of-type {\n",
       "        vertical-align: middle;\n",
       "    }\n",
       "\n",
       "    .dataframe tbody tr th {\n",
       "        vertical-align: top;\n",
       "    }\n",
       "\n",
       "    .dataframe thead th {\n",
       "        text-align: right;\n",
       "    }\n",
       "</style>\n",
       "<table border=\"1\" class=\"dataframe\">\n",
       "  <thead>\n",
       "    <tr style=\"text-align: right;\">\n",
       "      <th></th>\n",
       "      <th>Unnamed: 0</th>\n",
       "      <th>Id</th>\n",
       "      <th>Sequence</th>\n",
       "      <th>ourmodel</th>\n",
       "      <th>NeroPIpred</th>\n",
       "      <th>FUSE</th>\n",
       "      <th>FRL</th>\n",
       "    </tr>\n",
       "  </thead>\n",
       "  <tbody>\n",
       "    <tr>\n",
       "      <th>0</th>\n",
       "      <td>0</td>\n",
       "      <td>NP00317</td>\n",
       "      <td>AGWSSLKGAW</td>\n",
       "      <td>0.995747</td>\n",
       "      <td>0.9696</td>\n",
       "      <td>0.960549</td>\n",
       "      <td>0.979</td>\n",
       "    </tr>\n",
       "    <tr>\n",
       "      <th>1</th>\n",
       "      <td>1</td>\n",
       "      <td>NP00717</td>\n",
       "      <td>DALSPPAAGLGADHSFT</td>\n",
       "      <td>0.947327</td>\n",
       "      <td>0.6052</td>\n",
       "      <td>0.519240</td>\n",
       "      <td>0.880</td>\n",
       "    </tr>\n",
       "    <tr>\n",
       "      <th>2</th>\n",
       "      <td>2</td>\n",
       "      <td>NP01482</td>\n",
       "      <td>DQNRNFLRF</td>\n",
       "      <td>0.999131</td>\n",
       "      <td>0.9932</td>\n",
       "      <td>0.984482</td>\n",
       "      <td>0.999</td>\n",
       "    </tr>\n",
       "    <tr>\n",
       "      <th>3</th>\n",
       "      <td>3</td>\n",
       "      <td>NP03336</td>\n",
       "      <td>DPYAFGLGKRPADLYEFGL</td>\n",
       "      <td>0.971610</td>\n",
       "      <td>0.9386</td>\n",
       "      <td>0.729304</td>\n",
       "      <td>0.613</td>\n",
       "    </tr>\n",
       "    <tr>\n",
       "      <th>4</th>\n",
       "      <td>4</td>\n",
       "      <td>NP02850</td>\n",
       "      <td>SSPCPPVEGPAGRQRPLCASRSRLIPAPRGAVLVQREKDLSTYNWN...</td>\n",
       "      <td>0.994511</td>\n",
       "      <td>0.9734</td>\n",
       "      <td>0.977131</td>\n",
       "      <td>0.968</td>\n",
       "    </tr>\n",
       "    <tr>\n",
       "      <th>...</th>\n",
       "      <td>...</td>\n",
       "      <td>...</td>\n",
       "      <td>...</td>\n",
       "      <td>...</td>\n",
       "      <td>...</td>\n",
       "      <td>...</td>\n",
       "      <td>...</td>\n",
       "    </tr>\n",
       "    <tr>\n",
       "      <th>965</th>\n",
       "      <td>965</td>\n",
       "      <td>non-NeuroP021909</td>\n",
       "      <td>MPVNNFGFLATLLFVAVPMLFLIGLYIQTNSNKS</td>\n",
       "      <td>0.000041</td>\n",
       "      <td>0.0193</td>\n",
       "      <td>0.029612</td>\n",
       "      <td>0.039</td>\n",
       "    </tr>\n",
       "    <tr>\n",
       "      <th>966</th>\n",
       "      <td>966</td>\n",
       "      <td>non-NeuroP015018</td>\n",
       "      <td>TETQSFNFNVFEPEN</td>\n",
       "      <td>0.867910</td>\n",
       "      <td>0.0923</td>\n",
       "      <td>0.039585</td>\n",
       "      <td>0.150</td>\n",
       "    </tr>\n",
       "    <tr>\n",
       "      <th>967</th>\n",
       "      <td>967</td>\n",
       "      <td>non-NeuroP010237</td>\n",
       "      <td>IFGAILPLALGALKNLIK</td>\n",
       "      <td>0.000957</td>\n",
       "      <td>0.0127</td>\n",
       "      <td>0.020218</td>\n",
       "      <td>0.101</td>\n",
       "    </tr>\n",
       "    <tr>\n",
       "      <th>968</th>\n",
       "      <td>968</td>\n",
       "      <td>non-NeuroP055262</td>\n",
       "      <td>GTQTNAPWGLARLIS</td>\n",
       "      <td>0.000254</td>\n",
       "      <td>0.1272</td>\n",
       "      <td>0.132024</td>\n",
       "      <td>0.161</td>\n",
       "    </tr>\n",
       "    <tr>\n",
       "      <th>969</th>\n",
       "      <td>969</td>\n",
       "      <td>non-NeuroP048782</td>\n",
       "      <td>DEGCLPDDSSRT</td>\n",
       "      <td>0.007405</td>\n",
       "      <td>0.1884</td>\n",
       "      <td>0.132532</td>\n",
       "      <td>0.189</td>\n",
       "    </tr>\n",
       "  </tbody>\n",
       "</table>\n",
       "<p>970 rows × 7 columns</p>\n",
       "</div>"
      ],
      "text/plain": [
       "     Unnamed: 0                Id  \\\n",
       "0             0           NP00317   \n",
       "1             1           NP00717   \n",
       "2             2           NP01482   \n",
       "3             3           NP03336   \n",
       "4             4           NP02850   \n",
       "..          ...               ...   \n",
       "965         965  non-NeuroP021909   \n",
       "966         966  non-NeuroP015018   \n",
       "967         967  non-NeuroP010237   \n",
       "968         968  non-NeuroP055262   \n",
       "969         969  non-NeuroP048782   \n",
       "\n",
       "                                              Sequence  ourmodel  NeroPIpred  \\\n",
       "0                                           AGWSSLKGAW  0.995747      0.9696   \n",
       "1                                    DALSPPAAGLGADHSFT  0.947327      0.6052   \n",
       "2                                            DQNRNFLRF  0.999131      0.9932   \n",
       "3                                  DPYAFGLGKRPADLYEFGL  0.971610      0.9386   \n",
       "4    SSPCPPVEGPAGRQRPLCASRSRLIPAPRGAVLVQREKDLSTYNWN...  0.994511      0.9734   \n",
       "..                                                 ...       ...         ...   \n",
       "965                 MPVNNFGFLATLLFVAVPMLFLIGLYIQTNSNKS  0.000041      0.0193   \n",
       "966                                    TETQSFNFNVFEPEN  0.867910      0.0923   \n",
       "967                                 IFGAILPLALGALKNLIK  0.000957      0.0127   \n",
       "968                                    GTQTNAPWGLARLIS  0.000254      0.1272   \n",
       "969                                       DEGCLPDDSSRT  0.007405      0.1884   \n",
       "\n",
       "         FUSE    FRL  \n",
       "0    0.960549  0.979  \n",
       "1    0.519240  0.880  \n",
       "2    0.984482  0.999  \n",
       "3    0.729304  0.613  \n",
       "4    0.977131  0.968  \n",
       "..        ...    ...  \n",
       "965  0.029612  0.039  \n",
       "966  0.039585  0.150  \n",
       "967  0.020218  0.101  \n",
       "968  0.132024  0.161  \n",
       "969  0.132532  0.189  \n",
       "\n",
       "[970 rows x 7 columns]"
      ]
     },
     "execution_count": 45,
     "metadata": {},
     "output_type": "execute_result"
    }
   ],
   "source": [
    "data = pd.read_excel('results/整理.xlsx')\n",
    "data"
   ]
  },
  {
   "cell_type": "code",
   "execution_count": 46,
   "id": "48a77ab3",
   "metadata": {
    "ExecuteTime": {
     "end_time": "2022-03-26T12:42:35.359796Z",
     "start_time": "2022-03-26T12:42:35.345792Z"
    }
   },
   "outputs": [],
   "source": [
    "y_our = data['ourmodel'].to_numpy()\n",
    "y_Ipred = data['NeroPIpred'].to_numpy()\n",
    "y_FUSE = data['FUSE'].to_numpy()\n",
    "y_FRL = data['FRL'].to_numpy()"
   ]
  },
  {
   "cell_type": "code",
   "execution_count": 47,
   "id": "8ab24191",
   "metadata": {
    "ExecuteTime": {
     "end_time": "2022-03-26T12:42:42.988528Z",
     "start_time": "2022-03-26T12:42:42.973525Z"
    }
   },
   "outputs": [],
   "source": [
    "y_true = pd.read_csv('data/Process_data/test/y_test.csv').to_numpy()"
   ]
  },
  {
   "cell_type": "code",
   "execution_count": 53,
   "id": "e8b89678",
   "metadata": {
    "ExecuteTime": {
     "end_time": "2022-03-26T12:57:57.100504Z",
     "start_time": "2022-03-26T12:57:57.097503Z"
    }
   },
   "outputs": [],
   "source": [
    "from sklearn.metrics import plot_confusion_matrix, matthews_corrcoef, confusion_matrix,precision_recall_curve, roc_curve, auc, fbeta_score,roc_auc_score\n",
    "import pandas as pd\n",
    "from tensorflow.keras.utils import to_categorical as labelEncoding \n",
    "import matplotlib.pyplot as plt\n",
    "import itertools\n",
    "from sklearn.metrics import plot_confusion_matrix, matthews_corrcoef, confusion_matrix,precision_recall_curve, roc_curve, auc, fbeta_score,roc_auc_score"
   ]
  },
  {
   "cell_type": "code",
   "execution_count": 57,
   "id": "68e02400",
   "metadata": {
    "ExecuteTime": {
     "end_time": "2022-03-26T12:58:21.235386Z",
     "start_time": "2022-03-26T12:58:21.225383Z"
    }
   },
   "outputs": [],
   "source": [
    "def multi_models_roc(names, colors, Y_1, y_2, save=True, dpin=600):\n",
    "        \"\"\"\n",
    "        将多个机器模型的roc图输出到一张图上\n",
    "        \n",
    "        Args:\n",
    "            names: list, 多个模型的名称\n",
    "            sampling_methods: list, 多个模型的实例化对象\n",
    "            save: 选择是否将结果保存（默认为png格式）\n",
    "            \n",
    "        Returns:\n",
    "            返回图片对象plt\n",
    "        \"\"\"\n",
    "#         sns.set()\n",
    "        plt.figure(figsize=(8, 8))\n",
    "        plt.grid(False)\n",
    "\n",
    "        for (name, colorname,y_1) in zip(names, colors,Y_1):\n",
    "            \n",
    "#             method.fit(X_train, y_train)\n",
    "            Yactual = y_2\n",
    "#             Yp = method.predict(X_test)\n",
    "            v = y_1\n",
    "#             Yp = Yp.argmax(axis=1)\n",
    "            fpr, tpr, _ = roc_curve(Yactual, v)\n",
    "#             y_test_predprob = method.predict_proba(X_test)[:,1]\n",
    "#             precision, recall, _ = precision_recall_curve(y_test, y_test_predprob)\n",
    "#             fpr, tpr, thresholds = roc_curve(y_test, y_test_predprob, pos_label=1)\n",
    "            \n",
    "            plt.plot(fpr, tpr, lw=3, label='{} (AUC={:.3f})'.format(name, auc(fpr, tpr)),color = colorname)\n",
    "            plt.plot([-0.01, 1.01], [-0.01, 1.01], '--', lw=3, color = 'grey')\n",
    "            plt.axis('square')\n",
    "            plt.xlim([-0.01, 1.01])\n",
    "            plt.ylim([-0.01, 1.01])\n",
    "            plt.xlabel('False Positive Rate',fontdict={'family' : 'Times New Roman', 'size' : 16})\n",
    "            plt.ylabel('True Positive Rate',fontdict={'family' : 'Times New Roman', 'size' : 16})\n",
    "            plt.title('ROC Curve',fontdict={'family' : 'Times New Roman', 'size' : 20})\n",
    "            plt.legend(loc='lower right',fontsize=10)\n",
    "\n",
    "        if save:\n",
    "            plt.savefig('multi_models_roc222.png',dpi=600)\n",
    "            \n",
    "        return plt"
   ]
  },
  {
   "cell_type": "code",
   "execution_count": 58,
   "id": "47f4be6e",
   "metadata": {
    "ExecuteTime": {
     "end_time": "2022-03-26T12:58:21.683487Z",
     "start_time": "2022-03-26T12:58:21.674486Z"
    }
   },
   "outputs": [],
   "source": [
    "names = ['NeuroPpred-Fuse','NeuroPred-FRL','PredNeuroP','NeuroPred-CLQ',]\n",
    "Y_1 = [y_FUSE,y_FRL,y_Ipred,y_our]\n",
    "colors = ['steelblue',\n",
    "          'orange',\n",
    "#           'gold',\n",
    "          'mediumseagreen', \n",
    "          'crimson',\n",
    "#           'mediumpurple'  \n",
    "         ]\n",
    "# X_t = [X2_o,X2_e,X2_w]"
   ]
  },
  {
   "cell_type": "code",
   "execution_count": 59,
   "id": "dd544bd6",
   "metadata": {
    "ExecuteTime": {
     "end_time": "2022-03-26T12:58:23.185392Z",
     "start_time": "2022-03-26T12:58:22.200648Z"
    }
   },
   "outputs": [
    {
     "data": {
      "image/png": "[encoded data removed]",
      "text/plain": [
       "<Figure size 576x576 with 1 Axes>"
      ]
     },
     "metadata": {
      "needs_background": "light"
     },
     "output_type": "display_data"
    }
   ],
   "source": [
    "train_roc_graph = multi_models_roc(names,  colors, Y_1, y_true, save = True)"
   ]
  },
  {
   "cell_type": "code",
   "execution_count": null,
   "id": "e44229d8",
   "metadata": {},
   "outputs": [],
   "source": []
  }
 ],
 "metadata": {
  "kernelspec": {
   "display_name": "Python 3 (ipykernel)",
   "language": "python",
   "name": "python3"
  },
  "language_info": {
   "codemirror_mode": {
    "name": "ipython",
    "version": 3
   },
   "file_extension": ".py",
   "mimetype": "text/x-python",
   "name": "python",
   "nbconvert_exporter": "python",
   "pygments_lexer": "ipython3",
   "version": "3.9.7"
  },
  "toc": {
   "base_numbering": 1,
   "nav_menu": {},
   "number_sections": true,
   "sideBar": true,
   "skip_h1_title": false,
   "title_cell": "Table of Contents",
   "title_sidebar": "Contents",
   "toc_cell": false,
   "toc_position": {},
   "toc_section_display": true,
   "toc_window_display": false
  },
  "varInspector": {
   "cols": {
    "lenName": 16,
    "lenType": 16,
    "lenVar": 40
   },
   "kernels_config": {
    "python": {
     "delete_cmd_postfix": "",
     "delete_cmd_prefix": "del ",
     "library": "var_list.py",
     "varRefreshCmd": "print(var_dic_list())"
    },
    "r": {
     "delete_cmd_postfix": ") ",
     "delete_cmd_prefix": "rm(",
     "library": "var_list.r",
     "varRefreshCmd": "cat(var_dic_list()) "
    }
   },
   "types_to_exclude": [
    "module",
    "function",
    "builtin_function_or_method",
    "instance",
    "_Feature"
   ],
   "window_display": false
  }
 },
 "nbformat": 4,
 "nbformat_minor": 5
}
